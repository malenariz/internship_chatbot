{
 "cells": [
  {
   "cell_type": "code",
   "execution_count": 2,
   "id": "e1b05d2f",
   "metadata": {},
   "outputs": [
    {
     "name": "stdout",
     "output_type": "stream",
     "text": [
      "Found 9 links and captions\n",
      "I scraped 9 links and captions!\n"
     ]
    }
   ],
   "source": [
    "from selenium import webdriver\n",
    "from selenium.webdriver.common.keys import Keys\n",
    "from selenium.webdriver.support import expected_conditions as EC\n",
    "from selenium.webdriver.common.by import By\n",
    "from selenium.webdriver.support.wait import WebDriverWait\n",
    "import time\n",
    "from time import sleep\n",
    "\n",
    "# Create an instance of the Safari webdriver\n",
    "driver = webdriver.Safari()\n",
    "\n",
    "# Open the Facebook homepage\n",
    "driver.get(\"http://www.facebook.com/groups/1215947428519908/\")\n",
    "\n",
    "# Iterate over the posts\n",
    "captions_links = set()\n",
    "\n",
    "for i in [\"posts\"]:\n",
    "    # **********************************************************\n",
    "    # !! Change the group URL to the desired Facebook group URL !!\n",
    "    # **********************************************************\n",
    "    \n",
    "    # Scroll down (increase the range to scroll more)\n",
    "    for j in range(0, 1):\n",
    "        driver.execute_script(\"window.scrollTo(0, document.body.scrollHeight);\")\n",
    "        time.sleep(2)\n",
    "    \n",
    "    # Target all the link elements on the page using JavaScript\n",
    "    anchors = driver.execute_script(\"return document.getElementsByTagName('a');\")\n",
    "    anchors = [a.get_attribute('href') for a in anchors]\n",
    "    \n",
    "    # Narrow down all links to caption links only\n",
    "    links = [a for a in anchors if str(a).startswith(\"https://www.facebook.com/groups/1215947428519908/posts/\") and not a.endswith(\"#\")]\n",
    "\n",
    "    for caption_link in links:\n",
    "        driver.get(caption_link)\n",
    "        sleep(2)  # Add a delay of 2 seconds here\n",
    "        \n",
    "        # Find all spans with the relevant class names within the caption element\n",
    "        caption_spans = driver.find_elements(By.XPATH, \"//span[contains(@class, 'x193iq5w')][contains(@class, 'xeuugli')][contains(@class, 'x13faqbe')][contains(@class, 'x1vvkbs')][contains(@class, 'xlh3980')][contains(@class, 'xvmahel')][contains(@class, 'x1n0sxbx')][contains(@class, 'x6prxxf')][contains(@class, 'xvq8zen')][contains(@class, 'xo1l8bm')][contains(@class, 'xzsf02u')]\")\n",
    "        \n",
    "        # Concatenate the text from all the spans to form the caption\n",
    "        caption_text = ' '.join(span.text for span in caption_spans)\n",
    "        \n",
    "        # Associate the caption with its corresponding link\n",
    "        captions_links.add((caption_link, caption_text))\n",
    "        \n",
    "driver.quit()\n",
    "    \n",
    "print('Found ' + str(len(captions_links)) + ' links and captions')\n",
    "print('I scraped ' + str(len(captions_links)) + ' links and captions!')"
   ]
  },
  {
   "cell_type": "code",
   "execution_count": 4,
   "id": "f8226b5e",
   "metadata": {},
   "outputs": [
    {
     "name": "stdout",
     "output_type": "stream",
     "text": [
      "The links and captions have been saved to /Users/azrasamanta/Desktop/nice.txt.\n"
     ]
    }
   ],
   "source": [
    "# Specify the file path where you want to save the links and captions\n",
    "file_path = \"/Users/azrasamanta/Desktop/nice.txt\"\n",
    "\n",
    "# Save the links and captions to a text file\n",
    "with open(file_path, \"w\", encoding=\"utf-8\") as file:\n",
    "    for link, caption in captions_links:\n",
    "        file.write(\"Link: \" + link + \"\\n\")\n",
    "        file.write(\"Caption: \" + caption + \"\\n\\n\")\n",
    "\n",
    "print(f\"The links and captions have been saved to {file_path}.\")"
   ]
  },
  {
   "cell_type": "code",
   "execution_count": null,
   "id": "3038fd60",
   "metadata": {},
   "outputs": [],
   "source": []
  }
 ],
 "metadata": {
  "kernelspec": {
   "display_name": "Python 3 (ipykernel)",
   "language": "python",
   "name": "python3"
  },
  "language_info": {
   "codemirror_mode": {
    "name": "ipython",
    "version": 3
   },
   "file_extension": ".py",
   "mimetype": "text/x-python",
   "name": "python",
   "nbconvert_exporter": "python",
   "pygments_lexer": "ipython3",
   "version": "3.10.9"
  }
 },
 "nbformat": 4,
 "nbformat_minor": 5
}
